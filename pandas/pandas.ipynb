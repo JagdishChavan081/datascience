{
 "cells": [
  {
   "cell_type": "markdown",
   "metadata": {},
   "source": [
    "<center><h3>Data Science with Pandas</h3></center>\n",
    "<center><h5>Notes By</h5></center>\n",
    "<center><h4>Jagdish Chavan</h4></center>"
   ]
  },
  {
   "cell_type": "markdown",
   "metadata": {},
   "source": [
    "\n",
    "Welcome to Data Science with Pandas, where you will learn both the concept behind Pandas model as well as its implementation of it in Python.\n",
    "\n",
    "My name is Jagdish Chavan as a working Data Scientist and Industry Trainer, my Courses have been enrolled by over 1000 + students holding B.Sc in Computer Science with Mathematics and Statistics and I have experience in Building Projects in Data Science, ML, DL application and the consulting industry.\n",
    "\n",
    "While doing my Job, I realized That many Data analysts and beginners in the field of data analytics are overwhelmed by Pandas. here focus will be on students who want to expand their skill set with Pandas.\n",
    "\n",
    "As practising data scientist needs to know from concept to code without getting too much mathematical about it. if you regularly put one hour a day within a week, you will be able to make support vector machine-based models and answer SVM-related interview questions.\n",
    "\n",
    "The prerequisite for Data Science with Pandas will be knowledge of Core and Advance Python then we will familiarize ourself with the core mechanics of pandas\n",
    "\n",
    "* two primary data structures: the one-dimensional Series and the two-dimensional       DataFrame.\n",
    "* in-depth exploration of the Series, learn how to create a Series from scratch import it from an external data set; and apply a slew of mathematical, statistical,and logical operations to it.\n",
    "* introduce the tabular DataFrame and various ways to extract rows, columns, and values from its data\n",
    "* focuses on extracting subsets of DataFrame rows by applying logical criteria.\n",
    "* we’ll work through eight datasets that cover everything from box-office grosses to NBA players to Pokémon.\n",
    "\n",
    "this notes will be ideal for an existing Business analyst or data analyst who wants to expand on current skills or a student who wants to have a career in data science. \n",
    "\n",
    "We’ll be using the Jupyter Notebook development environment to write our code\n",
    "throughout the book. If you need help setting up pandas and Jupyter Notebook on\n",
    "your computer feel free to go through Linkedin Article on Data Science and for datasets you may visit my github repository on Data Science."
   ]
  },
  {
   "cell_type": "markdown",
   "metadata": {},
   "source": [
    "### Importing Data Set"
   ]
  },
  {
   "cell_type": "code",
   "execution_count": 2,
   "metadata": {},
   "outputs": [],
   "source": [
    "# importing a data set\n",
    "\n",
    "#import pandas library\n",
    "import pandas as pd"
   ]
  },
  {
   "cell_type": "markdown",
   "metadata": {},
   "source": [
    "Our data is stored in a single movies.csv file. A CSV (comma-separated values) file\n",
    "is a plain-text file that separates each row of data with a line break and each row value\n",
    "with a comma. The first row in the file holds the column headers for the data. Here’s\n",
    "a preview of the first three rows of movies.csv:\n",
    "\n",
    "Rank,Title,Studio,Gross,Year\n",
    "1,Avengers: Endgame,Buena Vista,\"$2,796.30\",2019\n",
    "2,Avatar,Fox,\"$2,789.70\",2009\n",
    "\n",
    "The first row lists the five columns in the data set: Rank, Title, Studio, Gross, and Year.The second row holds the first record or, equivalently, the data for the first movie. Thefilm has a Rank of 1, a Title of \"Avengers: Endgame\", a Studio of \"Buena Vista\", a Gross of \"$2,796.30\", and a Year of 2019. The next line holds the values for the\n",
    "next movie, and the pattern repeats for the remaining 750-plus rows in the data set."
   ]
  },
  {
   "cell_type": "markdown",
   "metadata": {},
   "source": [
    "**The read_csv() function is used to retrieve data from csv file. The syntax of read_csv() method is:**\n",
    "\n",
    "pd.read_csv(filepath_or_buffer, sep=', ', delimiter=None, header='infer', names=None, index_col=None, \n",
    "             usecols=None, squeeze=False, prefix=None, mangle_dupe_cols=True, \n",
    "             dtype=None, engine=None, converters=None, true_values=None, false_values=None, \n",
    "             skipinitialspace=False, skiprows=None, nrows=None, na_values=None, keep_default_na=True, \n",
    "             na_filter=True, verbose=False, skip_blank_lines=True, parse_dates=False, infer_datetime_format=False, \n",
    "             keep_date_col=False, date_parser=None, dayfirst=False, iterator=False, chunksize=None, compression='infer', \n",
    "             thousands=None, decimal=b'.', lineterminator=None, quotechar='\"', quoting=0, escapechar=None, comment=None, \n",
    "             encoding=None, dialect=None, tupleize_cols=None, error_bad_lines=True, warn_bad_lines=True, skipfooter=0, \n",
    "             doublequote=True, delim_whitespace=False, low_memory=True, memory_map=False, float_precision=None) "
   ]
  },
  {
   "cell_type": "code",
   "execution_count": 3,
   "metadata": {},
   "outputs": [
    {
     "name": "stdout",
     "output_type": "stream",
     "text": [
      "     Rank                         Title           Studio       Gross  Year\n",
      "0       1             Avengers: Endgame      Buena Vista  $2,796.30   2019\n",
      "1       2                        Avatar              Fox  $2,789.70   2009\n",
      "2       3                       Titanic        Paramount  $2,187.50   1997\n",
      "3       4  Star Wars: The Force Awakens      Buena Vista  $2,068.20   2015\n",
      "4       5        Avengers: Infinity War      Buena Vista  $2,048.40   2018\n",
      "..    ...                           ...              ...         ...   ...\n",
      "777   778                     Yogi Bear  Warner Brothers    $201.60   2010\n",
      "778   779           Garfield: The Movie              Fox    $200.80   2004\n",
      "779   780                   Cats & Dogs  Warner Brothers    $200.70   2001\n",
      "780   781      The Hunt for Red October        Paramount    $200.50   1990\n",
      "781   782                      Valkyrie              MGM    $200.30   2008\n",
      "\n",
      "[782 rows x 5 columns]\n"
     ]
    }
   ],
   "source": [
    "data =pd.read_csv('D:\\datascience\\pandas\\dset\\movies.csv')\n",
    "print(data)"
   ]
  },
  {
   "cell_type": "markdown",
   "metadata": {},
   "source": [
    "* Pandas imports the CSV file’s contents into an object called a DataFrame. \n",
    "* Think of an object as a container for storing data. Different objects are optimized for different types of data, and we interact with them in different ways. \n",
    "* Pandas uses one type of object (the DataFrame) to store multicolumn data sets and another type of object (the Series) to store single-column data sets. \n",
    "* A DataFrame is comparable to a multicolumn table in Excel.\n",
    "* To avoid cluttering the screen, pandas displays only the first five and last five rows\n",
    "of the DataFrame. \n",
    "* A row of ellipses ( . . . ) marks where the data gap occurs.\n",
    "* This DataFrame consists of five columns (Rank, Title, Studio, Gross, Year) and an\n",
    "index. \n",
    "* The index is the range of ascending numbers on the left side of the Data-\n",
    "Frame. \n",
    "* Index labels serve as identifiers for rows of data. We can set any column as the\n",
    "index of the DataFrame. \n",
    "* When we do not explicitly tell pandas which column to use,the library generates a numeric index starting from 0.\n",
    "\n",
    "**What column is a good candidate for the index?**\n",
    " * It’s one whose values can act as a primary identifier or point of reference for each row. \n",
    " * Among our five columns, Rank and Title are the two best options. Let’s swap the autogenerated numeric index with the values from the Title column. \n",
    " * We can do so directly during the CSV import:"
   ]
  },
  {
   "cell_type": "code",
   "execution_count": 4,
   "metadata": {},
   "outputs": [
    {
     "name": "stdout",
     "output_type": "stream",
     "text": [
      "                              Rank           Studio       Gross  Year\n",
      "Title                                                                \n",
      "Avengers: Endgame                1      Buena Vista  $2,796.30   2019\n",
      "Avatar                           2              Fox  $2,789.70   2009\n",
      "Titanic                          3        Paramount  $2,187.50   1997\n",
      "Star Wars: The Force Awakens     4      Buena Vista  $2,068.20   2015\n",
      "Avengers: Infinity War           5      Buena Vista  $2,048.40   2018\n",
      "...                            ...              ...         ...   ...\n",
      "Yogi Bear                      778  Warner Brothers    $201.60   2010\n",
      "Garfield: The Movie            779              Fox    $200.80   2004\n",
      "Cats & Dogs                    780  Warner Brothers    $200.70   2001\n",
      "The Hunt for Red October       781        Paramount    $200.50   1990\n",
      "Valkyrie                       782              MGM    $200.30   2008\n",
      "\n",
      "[782 rows x 4 columns]\n"
     ]
    }
   ],
   "source": [
    "data = pd.read_csv(\"D:/datascience/pandas/dset/movies.csv\", index_col='Title')\n",
    "print(data)"
   ]
  },
  {
   "cell_type": "markdown",
   "metadata": {},
   "source": [
    "### Manipulating a DataFrame\n",
    "\n",
    "**The head()** function is used to get the first n rows.\n",
    "\n",
    "* This function returns the first n rows for the object based on position. It is useful for quickly testing if your object has the right type of data in it.\n",
    "\n",
    "**Syntax**: \n",
    "DataFrame.head(self, n=5)"
   ]
  },
  {
   "cell_type": "code",
   "execution_count": 5,
   "metadata": {},
   "outputs": [
    {
     "name": "stdout",
     "output_type": "stream",
     "text": [
      "                              Rank       Studio       Gross  Year\n",
      "Title                                                            \n",
      "Avengers: Endgame                1  Buena Vista  $2,796.30   2019\n",
      "Avatar                           2          Fox  $2,789.70   2009\n",
      "Titanic                          3    Paramount  $2,187.50   1997\n",
      "Star Wars: The Force Awakens     4  Buena Vista  $2,068.20   2015\n",
      "Avengers: Infinity War           5  Buena Vista  $2,048.40   2018\n"
     ]
    }
   ],
   "source": [
    "print(data.head(5))"
   ]
  },
  {
   "cell_type": "markdown",
   "metadata": {},
   "source": [
    "**The tail()** function is used to get the last n rows.\n",
    "\n",
    "* This function returns last n rows from the object based on position. It is useful for quickly verifying data, for example, after sorting or appending rows.\n",
    "\n",
    "**Syntax:** DataFrame.tail(self,n=5)"
   ]
  },
  {
   "cell_type": "code",
   "execution_count": 6,
   "metadata": {},
   "outputs": [
    {
     "name": "stdout",
     "output_type": "stream",
     "text": [
      "                          Rank           Studio     Gross  Year\n",
      "Title                                                          \n",
      "Yogi Bear                  778  Warner Brothers  $201.60   2010\n",
      "Garfield: The Movie        779              Fox  $200.80   2004\n",
      "Cats & Dogs                780  Warner Brothers  $200.70   2001\n",
      "The Hunt for Red October   781        Paramount  $200.50   1990\n",
      "Valkyrie                   782              MGM  $200.30   2008\n"
     ]
    }
   ],
   "source": [
    "print(data.tail(5))"
   ]
  },
  {
   "cell_type": "markdown",
   "metadata": {},
   "source": [
    "**The len()** function returns the number of items in an object.\n",
    "\n",
    "* When the object is a string, the len() function returns the number of characters in the string.\n",
    "\n",
    "**syntax:** len(object)"
   ]
  },
  {
   "cell_type": "code",
   "execution_count": 7,
   "metadata": {},
   "outputs": [
    {
     "name": "stdout",
     "output_type": "stream",
     "text": [
      "782\n"
     ]
    }
   ],
   "source": [
    "print(len(data))"
   ]
  },
  {
   "cell_type": "markdown",
   "metadata": {},
   "source": [
    "**shape:** Returns tuple of shape (Rows, columns) of dataframe/series\n",
    "* gives number of rows and columns in the dataframe.\n",
    "\n",
    "**syntax**: data.shape()"
   ]
  },
  {
   "cell_type": "code",
   "execution_count": 8,
   "metadata": {},
   "outputs": [
    {
     "name": "stdout",
     "output_type": "stream",
     "text": [
      "(782, 4)\n"
     ]
    }
   ],
   "source": [
    "print(data.shape)"
   ]
  },
  {
   "cell_type": "markdown",
   "metadata": {},
   "source": [
    "**size:** gives information about total number of cells.\n",
    "\n",
    "**syntax:** data.size"
   ]
  },
  {
   "cell_type": "code",
   "execution_count": 9,
   "metadata": {},
   "outputs": [
    {
     "name": "stdout",
     "output_type": "stream",
     "text": [
      "3128\n"
     ]
    }
   ],
   "source": [
    "print(data.size)"
   ]
  },
  {
   "cell_type": "markdown",
   "metadata": {},
   "source": [
    "**dtypes:** Gives data type of columns.\n",
    "\n",
    "**syntax:** data.dtypes"
   ]
  },
  {
   "cell_type": "code",
   "execution_count": 10,
   "metadata": {},
   "outputs": [
    {
     "name": "stdout",
     "output_type": "stream",
     "text": [
      "Rank       int64\n",
      "Studio    object\n",
      "Gross     object\n",
      "Year       int64\n",
      "dtype: object\n"
     ]
    }
   ],
   "source": [
    "print(data.dtypes)"
   ]
  },
  {
   "cell_type": "markdown",
   "metadata": {},
   "source": [
    "**iloc:** extract a row from the data set by its numeric order in line, also called its index position\n",
    "\n",
    "**syntax:** data.iloc[]"
   ]
  },
  {
   "cell_type": "code",
   "execution_count": 11,
   "metadata": {},
   "outputs": [
    {
     "name": "stdout",
     "output_type": "stream",
     "text": [
      "Rank           500\n",
      "Studio         Fox\n",
      "Gross     $288.30 \n",
      "Year          2018\n",
      "Name: Maze Runner: The Death Cure, dtype: object\n"
     ]
    }
   ],
   "source": [
    "print(data.iloc[499])"
   ]
  },
  {
   "cell_type": "markdown",
   "metadata": {},
   "source": [
    "* Pandas returns a new object here called a Series, a one-dimensional labeled array of\n",
    "values. \n",
    "* Think of it as a single column of data with an identifier for each row. \n",
    "* Notice that the Series’ index labels (Rank, Studio, Gross, and Year) are the four columns from the movies DataFrame. \n",
    "* Pandas has altered the presentation of the original row’s values."
   ]
  },
  {
   "cell_type": "markdown",
   "metadata": {},
   "source": [
    "**loc:** extracts a row by its index label rather than its numeric position\n",
    "\n",
    "**syntax:** data.loc"
   ]
  },
  {
   "cell_type": "code",
   "execution_count": 12,
   "metadata": {},
   "outputs": [
    {
     "name": "stdout",
     "output_type": "stream",
     "text": [
      "Rank            119\n",
      "Studio    Paramount\n",
      "Gross      $677.90 \n",
      "Year           1994\n",
      "Name: Forrest Gump, dtype: object\n"
     ]
    }
   ],
   "source": [
    "print(data.loc['Forrest Gump'])"
   ]
  },
  {
   "cell_type": "markdown",
   "metadata": {},
   "source": [
    "* Index labels can contain duplicates. Two movies in the DataFrame have the title \"101\n",
    "Dalmatians\", for example (the 1961 original and the 1996 remake):"
   ]
  },
  {
   "cell_type": "code",
   "execution_count": 13,
   "metadata": {},
   "outputs": [
    {
     "name": "stdout",
     "output_type": "stream",
     "text": [
      "                Rank       Studio     Gross  Year\n",
      "Title                                            \n",
      "101 Dalmatians   425  Buena Vista  $320.70   1996\n",
      "101 Dalmatians   708  Buena Vista  $215.90   1961\n"
     ]
    }
   ],
   "source": [
    "print(data.loc['101 Dalmatians'])"
   ]
  },
  {
   "cell_type": "markdown",
   "metadata": {},
   "source": [
    "**sort_values:** sort the DataFrame by the values in another column.\n",
    "\n",
    "**syntax:** data.sort_values()"
   ]
  },
  {
   "cell_type": "code",
   "execution_count": 14,
   "metadata": {},
   "outputs": [
    {
     "name": "stdout",
     "output_type": "stream",
     "text": [
      "                                            Rank                  Studio  \\\n",
      "Title                                                                      \n",
      "Avengers: Endgame                              1             Buena Vista   \n",
      "John Wick: Chapter 3 - Parabellum            458               Lionsgate   \n",
      "The Wandering Earth                          114  China Film Corporation   \n",
      "Toy Story 4                                  198             Buena Vista   \n",
      "How to Train Your Dragon: The Hidden World   199               Universal   \n",
      "\n",
      "                                                 Gross  Year  \n",
      "Title                                                         \n",
      "Avengers: Endgame                           $2,796.30   2019  \n",
      "John Wick: Chapter 3 - Parabellum             $304.70   2019  \n",
      "The Wandering Earth                           $699.80   2019  \n",
      "Toy Story 4                                   $519.80   2019  \n",
      "How to Train Your Dragon: The Hidden World    $519.80   2019  \n"
     ]
    }
   ],
   "source": [
    "print(data.sort_values(by='Year', ascending=False).head())"
   ]
  },
  {
   "cell_type": "markdown",
   "metadata": {},
   "source": [
    "* We can also sort DataFrames by values across multiple columns.\n",
    "* Let’s sort movies first by the Studio column’s values and then by the Year column’s values. \n",
    "* Now we can see the films organized alphabetically by both studio and release date:"
   ]
  },
  {
   "cell_type": "code",
   "execution_count": 15,
   "metadata": {},
   "outputs": [
    {
     "name": "stdout",
     "output_type": "stream",
     "text": [
      "                         Rank       Studio     Gross  Year\n",
      "Title                                                     \n",
      "The Blair Witch Project   588      Artisan  $248.60   1999\n",
      "101 Dalmatians            708  Buena Vista  $215.90   1961\n",
      "The Jungle Book           755  Buena Vista  $205.80   1967\n",
      "Who Framed Roger Rabbit   410  Buena Vista  $329.80   1988\n",
      "Dead Poets Society        636  Buena Vista  $235.90   1989\n"
     ]
    }
   ],
   "source": [
    "print(data.sort_values(by=['Studio','Year']).head())"
   ]
  },
  {
   "cell_type": "markdown",
   "metadata": {},
   "source": [
    "**sort_index():** sort the index, which is helpful if we want to see the data in alphabetical order\n",
    "\n",
    "**syntax:** data.sort_index()"
   ]
  },
  {
   "cell_type": "code",
   "execution_count": 16,
   "metadata": {},
   "outputs": [
    {
     "name": "stdout",
     "output_type": "stream",
     "text": [
      "                  Rank           Studio     Gross  Year\n",
      "Title                                                  \n",
      "10,000 B.C.        536  Warner Brothers  $269.80   2008\n",
      "101 Dalmatians     708      Buena Vista  $215.90   1961\n",
      "101 Dalmatians     425      Buena Vista  $320.70   1996\n",
      "2 Fast 2 Furious   632        Universal  $236.40   2003\n",
      "2012                93             Sony  $769.70   2009\n"
     ]
    }
   ],
   "source": [
    "print(data.sort_index().head())"
   ]
  },
  {
   "cell_type": "markdown",
   "metadata": {},
   "source": [
    "**Note:**\n",
    "\n",
    "* The operations we’ve performed so far return new DataFrame objects. Pandas has not\n",
    "altered the original movies DataFrame from the CSV file. \n",
    "* The nondestructive nature of these operations is beneficial; it actively encourages experimentation. \n",
    "* We can always confirm that a result is correct before making it permanent."
   ]
  },
  {
   "cell_type": "markdown",
   "metadata": {},
   "source": [
    "### Counting values in a Series\n",
    "\n",
    "* We can extract a single column of data from a DataFrame as a Series. \n",
    "* Notice that pandas preserves the DataFrame’s index, the movie titles, in the Series:"
   ]
  },
  {
   "cell_type": "code",
   "execution_count": 17,
   "metadata": {},
   "outputs": [
    {
     "name": "stdout",
     "output_type": "stream",
     "text": [
      "Title\n",
      "Avengers: Endgame                   Buena Vista\n",
      "Avatar                                      Fox\n",
      "Titanic                               Paramount\n",
      "Star Wars: The Force Awakens        Buena Vista\n",
      "Avengers: Infinity War              Buena Vista\n",
      "                                     ...       \n",
      "Yogi Bear                       Warner Brothers\n",
      "Garfield: The Movie                         Fox\n",
      "Cats & Dogs                     Warner Brothers\n",
      "The Hunt for Red October              Paramount\n",
      "Valkyrie                                    MGM\n",
      "Name: Studio, Length: 782, dtype: object\n"
     ]
    }
   ],
   "source": [
    "print(data['Studio'])"
   ]
  },
  {
   "cell_type": "markdown",
   "metadata": {},
   "source": [
    "* If a Series has a large number of rows, pandas truncates the data set to show only the\n",
    "first five and the last five rows.\n",
    "* Now that we’ve isolated the Studio column, we can count each unique value’s\n",
    "number of occurrences. \n",
    "* Let’s limit our results to the top 10 studios:"
   ]
  },
  {
   "cell_type": "code",
   "execution_count": 18,
   "metadata": {},
   "outputs": [
    {
     "name": "stdout",
     "output_type": "stream",
     "text": [
      "Warner Brothers    132\n",
      "Buena Vista        125\n",
      "Fox                117\n",
      "Universal          109\n",
      "Sony                86\n",
      "Paramount           76\n",
      "Dreamworks          27\n",
      "Lionsgate           21\n",
      "New Line            16\n",
      "MGM                 11\n",
      "Name: Studio, dtype: int64\n"
     ]
    }
   ],
   "source": [
    "print(data['Studio'].value_counts().head(10))"
   ]
  },
  {
   "cell_type": "markdown",
   "metadata": {},
   "source": [
    "* pandas uses the studios from the Studio column as the index labels and their counts as the Series values."
   ]
  },
  {
   "cell_type": "markdown",
   "metadata": {},
   "source": [
    "### Filtering a column by one or more criteria\n",
    "\n",
    "* You’ll often want to extract a subset of rows based on one or more criteria. Excel\n",
    "offers the Filter tool for this exact purpose.\n",
    "\n",
    "* What if we wanted to find only the films released by Universal Studios? We can\n",
    "accomplish this task with one line of code in pandas:"
   ]
  },
  {
   "cell_type": "code",
   "execution_count": 19,
   "metadata": {},
   "outputs": [
    {
     "data": {
      "text/html": [
       "<div>\n",
       "<style scoped>\n",
       "    .dataframe tbody tr th:only-of-type {\n",
       "        vertical-align: middle;\n",
       "    }\n",
       "\n",
       "    .dataframe tbody tr th {\n",
       "        vertical-align: top;\n",
       "    }\n",
       "\n",
       "    .dataframe thead th {\n",
       "        text-align: right;\n",
       "    }\n",
       "</style>\n",
       "<table border=\"1\" class=\"dataframe\">\n",
       "  <thead>\n",
       "    <tr style=\"text-align: right;\">\n",
       "      <th></th>\n",
       "      <th>Rank</th>\n",
       "      <th>Studio</th>\n",
       "      <th>Gross</th>\n",
       "      <th>Year</th>\n",
       "    </tr>\n",
       "    <tr>\n",
       "      <th>Title</th>\n",
       "      <th></th>\n",
       "      <th></th>\n",
       "      <th></th>\n",
       "      <th></th>\n",
       "    </tr>\n",
       "  </thead>\n",
       "  <tbody>\n",
       "    <tr>\n",
       "      <th>Jurassic World</th>\n",
       "      <td>6</td>\n",
       "      <td>Universal</td>\n",
       "      <td>$1,671.70</td>\n",
       "      <td>2015</td>\n",
       "    </tr>\n",
       "    <tr>\n",
       "      <th>Furious 7</th>\n",
       "      <td>8</td>\n",
       "      <td>Universal</td>\n",
       "      <td>$1,516.00</td>\n",
       "      <td>2015</td>\n",
       "    </tr>\n",
       "    <tr>\n",
       "      <th>Jurassic World: Fallen Kingdom</th>\n",
       "      <td>13</td>\n",
       "      <td>Universal</td>\n",
       "      <td>$1,309.50</td>\n",
       "      <td>2018</td>\n",
       "    </tr>\n",
       "    <tr>\n",
       "      <th>The Fate of the Furious</th>\n",
       "      <td>17</td>\n",
       "      <td>Universal</td>\n",
       "      <td>$1,236.00</td>\n",
       "      <td>2017</td>\n",
       "    </tr>\n",
       "    <tr>\n",
       "      <th>Minions</th>\n",
       "      <td>19</td>\n",
       "      <td>Universal</td>\n",
       "      <td>$1,159.40</td>\n",
       "      <td>2015</td>\n",
       "    </tr>\n",
       "    <tr>\n",
       "      <th>...</th>\n",
       "      <td>...</td>\n",
       "      <td>...</td>\n",
       "      <td>...</td>\n",
       "      <td>...</td>\n",
       "    </tr>\n",
       "    <tr>\n",
       "      <th>The Break-Up</th>\n",
       "      <td>763</td>\n",
       "      <td>Universal</td>\n",
       "      <td>$205.00</td>\n",
       "      <td>2006</td>\n",
       "    </tr>\n",
       "    <tr>\n",
       "      <th>Everest</th>\n",
       "      <td>766</td>\n",
       "      <td>Universal</td>\n",
       "      <td>$203.40</td>\n",
       "      <td>2015</td>\n",
       "    </tr>\n",
       "    <tr>\n",
       "      <th>Patch Adams</th>\n",
       "      <td>772</td>\n",
       "      <td>Universal</td>\n",
       "      <td>$202.30</td>\n",
       "      <td>1998</td>\n",
       "    </tr>\n",
       "    <tr>\n",
       "      <th>Kindergarten Cop</th>\n",
       "      <td>775</td>\n",
       "      <td>Universal</td>\n",
       "      <td>$202.00</td>\n",
       "      <td>1990</td>\n",
       "    </tr>\n",
       "    <tr>\n",
       "      <th>Straight Outta Compton</th>\n",
       "      <td>776</td>\n",
       "      <td>Universal</td>\n",
       "      <td>$201.60</td>\n",
       "      <td>2015</td>\n",
       "    </tr>\n",
       "  </tbody>\n",
       "</table>\n",
       "<p>109 rows × 4 columns</p>\n",
       "</div>"
      ],
      "text/plain": [
       "                                Rank     Studio       Gross  Year\n",
       "Title                                                            \n",
       "Jurassic World                     6  Universal  $1,671.70   2015\n",
       "Furious 7                          8  Universal  $1,516.00   2015\n",
       "Jurassic World: Fallen Kingdom    13  Universal  $1,309.50   2018\n",
       "The Fate of the Furious           17  Universal  $1,236.00   2017\n",
       "Minions                           19  Universal  $1,159.40   2015\n",
       "...                              ...        ...         ...   ...\n",
       "The Break-Up                     763  Universal    $205.00   2006\n",
       "Everest                          766  Universal    $203.40   2015\n",
       "Patch Adams                      772  Universal    $202.30   1998\n",
       "Kindergarten Cop                 775  Universal    $202.00   1990\n",
       "Straight Outta Compton           776  Universal    $201.60   2015\n",
       "\n",
       "[109 rows x 4 columns]"
      ]
     },
     "execution_count": 19,
     "metadata": {},
     "output_type": "execute_result"
    }
   ],
   "source": [
    "data[data[\"Studio\"] == \"Universal\"]"
   ]
  },
  {
   "cell_type": "markdown",
   "metadata": {},
   "source": [
    "We can assign the filtering condition to a variable to provide context for readers:"
   ]
  },
  {
   "cell_type": "code",
   "execution_count": 20,
   "metadata": {},
   "outputs": [
    {
     "name": "stdout",
     "output_type": "stream",
     "text": [
      "                                Rank     Studio       Gross  Year\n",
      "Title                                                            \n",
      "Jurassic World                     6  Universal  $1,671.70   2015\n",
      "Furious 7                          8  Universal  $1,516.00   2015\n",
      "Jurassic World: Fallen Kingdom    13  Universal  $1,309.50   2018\n",
      "The Fate of the Furious           17  Universal  $1,236.00   2017\n",
      "Minions                           19  Universal  $1,159.40   2015\n"
     ]
    }
   ],
   "source": [
    "released_by_universal = (data[\"Studio\"] == \"Universal\")\n",
    "print(data[released_by_universal].head())"
   ]
  },
  {
   "cell_type": "markdown",
   "metadata": {},
   "source": [
    "* We can also filter DataFrame rows by multiple criteria. The next example targets all\n",
    "movies released by Universal Studios and released in 2015:"
   ]
  },
  {
   "cell_type": "code",
   "execution_count": 21,
   "metadata": {},
   "outputs": [
    {
     "data": {
      "text/html": [
       "<div>\n",
       "<style scoped>\n",
       "    .dataframe tbody tr th:only-of-type {\n",
       "        vertical-align: middle;\n",
       "    }\n",
       "\n",
       "    .dataframe tbody tr th {\n",
       "        vertical-align: top;\n",
       "    }\n",
       "\n",
       "    .dataframe thead th {\n",
       "        text-align: right;\n",
       "    }\n",
       "</style>\n",
       "<table border=\"1\" class=\"dataframe\">\n",
       "  <thead>\n",
       "    <tr style=\"text-align: right;\">\n",
       "      <th></th>\n",
       "      <th>Rank</th>\n",
       "      <th>Studio</th>\n",
       "      <th>Gross</th>\n",
       "      <th>Year</th>\n",
       "    </tr>\n",
       "    <tr>\n",
       "      <th>Title</th>\n",
       "      <th></th>\n",
       "      <th></th>\n",
       "      <th></th>\n",
       "      <th></th>\n",
       "    </tr>\n",
       "  </thead>\n",
       "  <tbody>\n",
       "    <tr>\n",
       "      <th>Jurassic World</th>\n",
       "      <td>6</td>\n",
       "      <td>Universal</td>\n",
       "      <td>$1,671.70</td>\n",
       "      <td>2015</td>\n",
       "    </tr>\n",
       "    <tr>\n",
       "      <th>Furious 7</th>\n",
       "      <td>8</td>\n",
       "      <td>Universal</td>\n",
       "      <td>$1,516.00</td>\n",
       "      <td>2015</td>\n",
       "    </tr>\n",
       "    <tr>\n",
       "      <th>Minions</th>\n",
       "      <td>19</td>\n",
       "      <td>Universal</td>\n",
       "      <td>$1,159.40</td>\n",
       "      <td>2015</td>\n",
       "    </tr>\n",
       "    <tr>\n",
       "      <th>Fifty Shades of Grey</th>\n",
       "      <td>165</td>\n",
       "      <td>Universal</td>\n",
       "      <td>$571.00</td>\n",
       "      <td>2015</td>\n",
       "    </tr>\n",
       "    <tr>\n",
       "      <th>Pitch Perfect 2</th>\n",
       "      <td>504</td>\n",
       "      <td>Universal</td>\n",
       "      <td>$287.50</td>\n",
       "      <td>2015</td>\n",
       "    </tr>\n",
       "    <tr>\n",
       "      <th>Ted 2</th>\n",
       "      <td>702</td>\n",
       "      <td>Universal</td>\n",
       "      <td>$216.70</td>\n",
       "      <td>2015</td>\n",
       "    </tr>\n",
       "    <tr>\n",
       "      <th>Everest</th>\n",
       "      <td>766</td>\n",
       "      <td>Universal</td>\n",
       "      <td>$203.40</td>\n",
       "      <td>2015</td>\n",
       "    </tr>\n",
       "    <tr>\n",
       "      <th>Straight Outta Compton</th>\n",
       "      <td>776</td>\n",
       "      <td>Universal</td>\n",
       "      <td>$201.60</td>\n",
       "      <td>2015</td>\n",
       "    </tr>\n",
       "  </tbody>\n",
       "</table>\n",
       "</div>"
      ],
      "text/plain": [
       "                        Rank     Studio       Gross  Year\n",
       "Title                                                    \n",
       "Jurassic World             6  Universal  $1,671.70   2015\n",
       "Furious 7                  8  Universal  $1,516.00   2015\n",
       "Minions                   19  Universal  $1,159.40   2015\n",
       "Fifty Shades of Grey     165  Universal    $571.00   2015\n",
       "Pitch Perfect 2          504  Universal    $287.50   2015\n",
       "Ted 2                    702  Universal    $216.70   2015\n",
       "Everest                  766  Universal    $203.40   2015\n",
       "Straight Outta Compton   776  Universal    $201.60   2015"
      ]
     },
     "execution_count": 21,
     "metadata": {},
     "output_type": "execute_result"
    }
   ],
   "source": [
    "released_by_universal = data[\"Studio\"] == \"Universal\"\n",
    "released_in_2015 = data[\"Year\"] == 2015\n",
    "data[released_by_universal & released_in_2015]"
   ]
  },
  {
   "cell_type": "markdown",
   "metadata": {},
   "source": [
    "* The previous example includes rows that satisfied both conditions.\n",
    "* We can also filter for films that fit either condition: released by Universal or released in 2015. The resulting DataFrame is longer because more films have a chance of satisfying one of the two conditions instead of both:"
   ]
  },
  {
   "cell_type": "code",
   "execution_count": 22,
   "metadata": {},
   "outputs": [
    {
     "data": {
      "text/html": [
       "<div>\n",
       "<style scoped>\n",
       "    .dataframe tbody tr th:only-of-type {\n",
       "        vertical-align: middle;\n",
       "    }\n",
       "\n",
       "    .dataframe tbody tr th {\n",
       "        vertical-align: top;\n",
       "    }\n",
       "\n",
       "    .dataframe thead th {\n",
       "        text-align: right;\n",
       "    }\n",
       "</style>\n",
       "<table border=\"1\" class=\"dataframe\">\n",
       "  <thead>\n",
       "    <tr style=\"text-align: right;\">\n",
       "      <th></th>\n",
       "      <th>Rank</th>\n",
       "      <th>Studio</th>\n",
       "      <th>Gross</th>\n",
       "      <th>Year</th>\n",
       "    </tr>\n",
       "    <tr>\n",
       "      <th>Title</th>\n",
       "      <th></th>\n",
       "      <th></th>\n",
       "      <th></th>\n",
       "      <th></th>\n",
       "    </tr>\n",
       "  </thead>\n",
       "  <tbody>\n",
       "    <tr>\n",
       "      <th>Star Wars: The Force Awakens</th>\n",
       "      <td>4</td>\n",
       "      <td>Buena Vista</td>\n",
       "      <td>$2,068.20</td>\n",
       "      <td>2015</td>\n",
       "    </tr>\n",
       "    <tr>\n",
       "      <th>Jurassic World</th>\n",
       "      <td>6</td>\n",
       "      <td>Universal</td>\n",
       "      <td>$1,671.70</td>\n",
       "      <td>2015</td>\n",
       "    </tr>\n",
       "    <tr>\n",
       "      <th>Furious 7</th>\n",
       "      <td>8</td>\n",
       "      <td>Universal</td>\n",
       "      <td>$1,516.00</td>\n",
       "      <td>2015</td>\n",
       "    </tr>\n",
       "    <tr>\n",
       "      <th>Avengers: Age of Ultron</th>\n",
       "      <td>9</td>\n",
       "      <td>Buena Vista</td>\n",
       "      <td>$1,405.40</td>\n",
       "      <td>2015</td>\n",
       "    </tr>\n",
       "    <tr>\n",
       "      <th>Jurassic World: Fallen Kingdom</th>\n",
       "      <td>13</td>\n",
       "      <td>Universal</td>\n",
       "      <td>$1,309.50</td>\n",
       "      <td>2018</td>\n",
       "    </tr>\n",
       "    <tr>\n",
       "      <th>...</th>\n",
       "      <td>...</td>\n",
       "      <td>...</td>\n",
       "      <td>...</td>\n",
       "      <td>...</td>\n",
       "    </tr>\n",
       "    <tr>\n",
       "      <th>The Break-Up</th>\n",
       "      <td>763</td>\n",
       "      <td>Universal</td>\n",
       "      <td>$205.00</td>\n",
       "      <td>2006</td>\n",
       "    </tr>\n",
       "    <tr>\n",
       "      <th>Everest</th>\n",
       "      <td>766</td>\n",
       "      <td>Universal</td>\n",
       "      <td>$203.40</td>\n",
       "      <td>2015</td>\n",
       "    </tr>\n",
       "    <tr>\n",
       "      <th>Patch Adams</th>\n",
       "      <td>772</td>\n",
       "      <td>Universal</td>\n",
       "      <td>$202.30</td>\n",
       "      <td>1998</td>\n",
       "    </tr>\n",
       "    <tr>\n",
       "      <th>Kindergarten Cop</th>\n",
       "      <td>775</td>\n",
       "      <td>Universal</td>\n",
       "      <td>$202.00</td>\n",
       "      <td>1990</td>\n",
       "    </tr>\n",
       "    <tr>\n",
       "      <th>Straight Outta Compton</th>\n",
       "      <td>776</td>\n",
       "      <td>Universal</td>\n",
       "      <td>$201.60</td>\n",
       "      <td>2015</td>\n",
       "    </tr>\n",
       "  </tbody>\n",
       "</table>\n",
       "<p>140 rows × 4 columns</p>\n",
       "</div>"
      ],
      "text/plain": [
       "                                Rank       Studio       Gross  Year\n",
       "Title                                                              \n",
       "Star Wars: The Force Awakens       4  Buena Vista  $2,068.20   2015\n",
       "Jurassic World                     6    Universal  $1,671.70   2015\n",
       "Furious 7                          8    Universal  $1,516.00   2015\n",
       "Avengers: Age of Ultron            9  Buena Vista  $1,405.40   2015\n",
       "Jurassic World: Fallen Kingdom    13    Universal  $1,309.50   2018\n",
       "...                              ...          ...         ...   ...\n",
       "The Break-Up                     763    Universal    $205.00   2006\n",
       "Everest                          766    Universal    $203.40   2015\n",
       "Patch Adams                      772    Universal    $202.30   1998\n",
       "Kindergarten Cop                 775    Universal    $202.00   1990\n",
       "Straight Outta Compton           776    Universal    $201.60   2015\n",
       "\n",
       "[140 rows x 4 columns]"
      ]
     },
     "execution_count": 22,
     "metadata": {},
     "output_type": "execute_result"
    }
   ],
   "source": [
    "released_by_universal = data[\"Studio\"] == \"Universal\"\n",
    "released_in_2015 = data[\"Year\"] == 2015\n",
    "data[released_by_universal | released_in_2015]"
   ]
  },
  {
   "cell_type": "markdown",
   "metadata": {},
   "source": [
    "* We can target column values less than or greater than a specific value, for example. Here, we target movies released before 1975:"
   ]
  },
  {
   "cell_type": "code",
   "execution_count": 23,
   "metadata": {},
   "outputs": [
    {
     "data": {
      "text/html": [
       "<div>\n",
       "<style scoped>\n",
       "    .dataframe tbody tr th:only-of-type {\n",
       "        vertical-align: middle;\n",
       "    }\n",
       "\n",
       "    .dataframe tbody tr th {\n",
       "        vertical-align: top;\n",
       "    }\n",
       "\n",
       "    .dataframe thead th {\n",
       "        text-align: right;\n",
       "    }\n",
       "</style>\n",
       "<table border=\"1\" class=\"dataframe\">\n",
       "  <thead>\n",
       "    <tr style=\"text-align: right;\">\n",
       "      <th></th>\n",
       "      <th>Rank</th>\n",
       "      <th>Studio</th>\n",
       "      <th>Gross</th>\n",
       "      <th>Year</th>\n",
       "    </tr>\n",
       "    <tr>\n",
       "      <th>Title</th>\n",
       "      <th></th>\n",
       "      <th></th>\n",
       "      <th></th>\n",
       "      <th></th>\n",
       "    </tr>\n",
       "  </thead>\n",
       "  <tbody>\n",
       "    <tr>\n",
       "      <th>The Exorcist</th>\n",
       "      <td>252</td>\n",
       "      <td>Warner Brothers</td>\n",
       "      <td>$441.30</td>\n",
       "      <td>1973</td>\n",
       "    </tr>\n",
       "    <tr>\n",
       "      <th>Gone with the Wind</th>\n",
       "      <td>288</td>\n",
       "      <td>MGM</td>\n",
       "      <td>$402.40</td>\n",
       "      <td>1939</td>\n",
       "    </tr>\n",
       "    <tr>\n",
       "      <th>Bambi</th>\n",
       "      <td>540</td>\n",
       "      <td>RKO</td>\n",
       "      <td>$267.40</td>\n",
       "      <td>1942</td>\n",
       "    </tr>\n",
       "    <tr>\n",
       "      <th>The Godfather</th>\n",
       "      <td>604</td>\n",
       "      <td>Paramount</td>\n",
       "      <td>$245.10</td>\n",
       "      <td>1972</td>\n",
       "    </tr>\n",
       "    <tr>\n",
       "      <th>101 Dalmatians</th>\n",
       "      <td>708</td>\n",
       "      <td>Buena Vista</td>\n",
       "      <td>$215.90</td>\n",
       "      <td>1961</td>\n",
       "    </tr>\n",
       "    <tr>\n",
       "      <th>The Jungle Book</th>\n",
       "      <td>755</td>\n",
       "      <td>Buena Vista</td>\n",
       "      <td>$205.80</td>\n",
       "      <td>1967</td>\n",
       "    </tr>\n",
       "  </tbody>\n",
       "</table>\n",
       "</div>"
      ],
      "text/plain": [
       "                    Rank           Studio     Gross  Year\n",
       "Title                                                    \n",
       "The Exorcist         252  Warner Brothers  $441.30   1973\n",
       "Gone with the Wind   288              MGM  $402.40   1939\n",
       "Bambi                540              RKO  $267.40   1942\n",
       "The Godfather        604        Paramount  $245.10   1972\n",
       "101 Dalmatians       708      Buena Vista  $215.90   1961\n",
       "The Jungle Book      755      Buena Vista  $205.80   1967"
      ]
     },
     "execution_count": 23,
     "metadata": {},
     "output_type": "execute_result"
    }
   ],
   "source": [
    "before_1975 = data[\"Year\"] < 1975\n",
    "data[before_1975]"
   ]
  },
  {
   "cell_type": "markdown",
   "metadata": {},
   "source": [
    "* We can also specify a range between which all values must fall. The next example pulls out movies released between 1983 and 1986:"
   ]
  },
  {
   "cell_type": "code",
   "execution_count": 24,
   "metadata": {},
   "outputs": [
    {
     "data": {
      "text/html": [
       "<div>\n",
       "<style scoped>\n",
       "    .dataframe tbody tr th:only-of-type {\n",
       "        vertical-align: middle;\n",
       "    }\n",
       "\n",
       "    .dataframe tbody tr th {\n",
       "        vertical-align: top;\n",
       "    }\n",
       "\n",
       "    .dataframe thead th {\n",
       "        text-align: right;\n",
       "    }\n",
       "</style>\n",
       "<table border=\"1\" class=\"dataframe\">\n",
       "  <thead>\n",
       "    <tr style=\"text-align: right;\">\n",
       "      <th></th>\n",
       "      <th>Rank</th>\n",
       "      <th>Studio</th>\n",
       "      <th>Gross</th>\n",
       "      <th>Year</th>\n",
       "    </tr>\n",
       "    <tr>\n",
       "      <th>Title</th>\n",
       "      <th></th>\n",
       "      <th></th>\n",
       "      <th></th>\n",
       "      <th></th>\n",
       "    </tr>\n",
       "  </thead>\n",
       "  <tbody>\n",
       "    <tr>\n",
       "      <th>Return of the Jedi</th>\n",
       "      <td>222</td>\n",
       "      <td>Fox</td>\n",
       "      <td>$475.10</td>\n",
       "      <td>1983</td>\n",
       "    </tr>\n",
       "    <tr>\n",
       "      <th>Back to the Future</th>\n",
       "      <td>311</td>\n",
       "      <td>Universal</td>\n",
       "      <td>$381.10</td>\n",
       "      <td>1985</td>\n",
       "    </tr>\n",
       "    <tr>\n",
       "      <th>Top Gun</th>\n",
       "      <td>357</td>\n",
       "      <td>Paramount</td>\n",
       "      <td>$356.80</td>\n",
       "      <td>1986</td>\n",
       "    </tr>\n",
       "    <tr>\n",
       "      <th>Indiana Jones and the Temple of Doom</th>\n",
       "      <td>403</td>\n",
       "      <td>Paramount</td>\n",
       "      <td>$333.10</td>\n",
       "      <td>1984</td>\n",
       "    </tr>\n",
       "    <tr>\n",
       "      <th>Crocodile Dundee</th>\n",
       "      <td>413</td>\n",
       "      <td>Paramount</td>\n",
       "      <td>$328.20</td>\n",
       "      <td>1986</td>\n",
       "    </tr>\n",
       "    <tr>\n",
       "      <th>Beverly Hills Cop</th>\n",
       "      <td>432</td>\n",
       "      <td>Paramount</td>\n",
       "      <td>$316.40</td>\n",
       "      <td>1984</td>\n",
       "    </tr>\n",
       "    <tr>\n",
       "      <th>Rocky IV</th>\n",
       "      <td>467</td>\n",
       "      <td>MGM</td>\n",
       "      <td>$300.50</td>\n",
       "      <td>1985</td>\n",
       "    </tr>\n",
       "    <tr>\n",
       "      <th>Rambo: First Blood Part II</th>\n",
       "      <td>469</td>\n",
       "      <td>TriStar</td>\n",
       "      <td>$300.40</td>\n",
       "      <td>1985</td>\n",
       "    </tr>\n",
       "    <tr>\n",
       "      <th>Ghostbusters</th>\n",
       "      <td>485</td>\n",
       "      <td>Columbia</td>\n",
       "      <td>$295.20</td>\n",
       "      <td>1984</td>\n",
       "    </tr>\n",
       "    <tr>\n",
       "      <th>Out of Africa</th>\n",
       "      <td>662</td>\n",
       "      <td>Universal</td>\n",
       "      <td>$227.50</td>\n",
       "      <td>1985</td>\n",
       "    </tr>\n",
       "  </tbody>\n",
       "</table>\n",
       "</div>"
      ],
      "text/plain": [
       "                                      Rank     Studio     Gross  Year\n",
       "Title                                                                \n",
       "Return of the Jedi                     222        Fox  $475.10   1983\n",
       "Back to the Future                     311  Universal  $381.10   1985\n",
       "Top Gun                                357  Paramount  $356.80   1986\n",
       "Indiana Jones and the Temple of Doom   403  Paramount  $333.10   1984\n",
       "Crocodile Dundee                       413  Paramount  $328.20   1986\n",
       "Beverly Hills Cop                      432  Paramount  $316.40   1984\n",
       "Rocky IV                               467        MGM  $300.50   1985\n",
       "Rambo: First Blood Part II             469    TriStar  $300.40   1985\n",
       "Ghostbusters                           485   Columbia  $295.20   1984\n",
       "Out of Africa                          662  Universal  $227.50   1985"
      ]
     },
     "execution_count": 24,
     "metadata": {},
     "output_type": "execute_result"
    }
   ],
   "source": [
    "mid_80s = data[\"Year\"].between(1983, 1986)\n",
    "data[mid_80s]"
   ]
  },
  {
   "cell_type": "markdown",
   "metadata": {},
   "source": [
    "* We can also use the DataFrame index to filter rows. The next example lowercases the movie titles in the index and finds all movies with the word \"dark\" in their title:"
   ]
  },
  {
   "cell_type": "code",
   "execution_count": 25,
   "metadata": {},
   "outputs": [
    {
     "data": {
      "text/html": [
       "<div>\n",
       "<style scoped>\n",
       "    .dataframe tbody tr th:only-of-type {\n",
       "        vertical-align: middle;\n",
       "    }\n",
       "\n",
       "    .dataframe tbody tr th {\n",
       "        vertical-align: top;\n",
       "    }\n",
       "\n",
       "    .dataframe thead th {\n",
       "        text-align: right;\n",
       "    }\n",
       "</style>\n",
       "<table border=\"1\" class=\"dataframe\">\n",
       "  <thead>\n",
       "    <tr style=\"text-align: right;\">\n",
       "      <th></th>\n",
       "      <th>Rank</th>\n",
       "      <th>Studio</th>\n",
       "      <th>Gross</th>\n",
       "      <th>Year</th>\n",
       "    </tr>\n",
       "    <tr>\n",
       "      <th>Title</th>\n",
       "      <th></th>\n",
       "      <th></th>\n",
       "      <th></th>\n",
       "      <th></th>\n",
       "    </tr>\n",
       "  </thead>\n",
       "  <tbody>\n",
       "    <tr>\n",
       "      <th>Transformers: Dark of the Moon</th>\n",
       "      <td>23</td>\n",
       "      <td>Paramount</td>\n",
       "      <td>$1,123.80</td>\n",
       "      <td>2011</td>\n",
       "    </tr>\n",
       "    <tr>\n",
       "      <th>The Dark Knight Rises</th>\n",
       "      <td>27</td>\n",
       "      <td>Warner Brothers</td>\n",
       "      <td>$1,084.90</td>\n",
       "      <td>2012</td>\n",
       "    </tr>\n",
       "    <tr>\n",
       "      <th>The Dark Knight</th>\n",
       "      <td>39</td>\n",
       "      <td>Warner Brothers</td>\n",
       "      <td>$1,004.90</td>\n",
       "      <td>2008</td>\n",
       "    </tr>\n",
       "    <tr>\n",
       "      <th>Thor: The Dark World</th>\n",
       "      <td>132</td>\n",
       "      <td>Buena Vista</td>\n",
       "      <td>$644.60</td>\n",
       "      <td>2013</td>\n",
       "    </tr>\n",
       "    <tr>\n",
       "      <th>Star Trek Into Darkness</th>\n",
       "      <td>232</td>\n",
       "      <td>Paramount</td>\n",
       "      <td>$467.40</td>\n",
       "      <td>2013</td>\n",
       "    </tr>\n",
       "    <tr>\n",
       "      <th>Fifty Shades Darker</th>\n",
       "      <td>309</td>\n",
       "      <td>Universal</td>\n",
       "      <td>$381.50</td>\n",
       "      <td>2017</td>\n",
       "    </tr>\n",
       "    <tr>\n",
       "      <th>Dark Shadows</th>\n",
       "      <td>600</td>\n",
       "      <td>Warner Brothers</td>\n",
       "      <td>$245.50</td>\n",
       "      <td>2012</td>\n",
       "    </tr>\n",
       "    <tr>\n",
       "      <th>Dark Phoenix</th>\n",
       "      <td>603</td>\n",
       "      <td>Fox</td>\n",
       "      <td>$245.10</td>\n",
       "      <td>2019</td>\n",
       "    </tr>\n",
       "  </tbody>\n",
       "</table>\n",
       "</div>"
      ],
      "text/plain": [
       "                                Rank           Studio       Gross  Year\n",
       "Title                                                                  \n",
       "Transformers: Dark of the Moon    23        Paramount  $1,123.80   2011\n",
       "The Dark Knight Rises             27  Warner Brothers  $1,084.90   2012\n",
       "The Dark Knight                   39  Warner Brothers  $1,004.90   2008\n",
       "Thor: The Dark World             132      Buena Vista    $644.60   2013\n",
       "Star Trek Into Darkness          232        Paramount    $467.40   2013\n",
       "Fifty Shades Darker              309        Universal    $381.50   2017\n",
       "Dark Shadows                     600  Warner Brothers    $245.50   2012\n",
       "Dark Phoenix                     603              Fox    $245.10   2019"
      ]
     },
     "execution_count": 25,
     "metadata": {},
     "output_type": "execute_result"
    }
   ],
   "source": [
    "has_dark_in_title = data.index.str.lower().str.contains(\"dark\")\n",
    "data[has_dark_in_title]"
   ]
  },
  {
   "cell_type": "markdown",
   "metadata": {},
   "source": [
    "### Grouping data"
   ]
  },
  {
   "cell_type": "markdown",
   "metadata": {},
   "source": [
    "* We might be curious which studio had the highest total grosses across all films. \n",
    "* Let’s aggregate the values in the Gross column by studio.\n",
    "* Our first dilemma is that the Gross column’s values are stored as text rather than as numbers. \n",
    "* Pandas imported the column’s values as text to preserve the dollar signs and\n",
    "comma symbols in the original CSV. \n",
    "* We can convert the column’s values to decimal numbers, but only if we remove both of those characters. The next example replaces all occurrences of \"$\" and \",\" with empty text. T\n",
    "* his operation is similar to Find and Replace in Excel:"
   ]
  },
  {
   "cell_type": "code",
   "execution_count": 29,
   "metadata": {},
   "outputs": [
    {
     "data": {
      "text/plain": [
       "Title\n",
       "Avengers: Endgame               2796.30 \n",
       "Avatar                          2789.70 \n",
       "Titanic                         2187.50 \n",
       "Star Wars: The Force Awakens    2068.20 \n",
       "Avengers: Infinity War          2048.40 \n",
       "                                  ...   \n",
       "Yogi Bear                        201.60 \n",
       "Garfield: The Movie              200.80 \n",
       "Cats & Dogs                      200.70 \n",
       "The Hunt for Red October         200.50 \n",
       "Valkyrie                         200.30 \n",
       "Name: Gross, Length: 782, dtype: object"
      ]
     },
     "execution_count": 29,
     "metadata": {},
     "output_type": "execute_result"
    }
   ],
   "source": [
    "(\n",
    "data[\"Gross\"]\n",
    ".str.replace(\"$\", \"\", regex = False)\n",
    ".str.replace(\",\", \"\", regex = False)\n",
    ")"
   ]
  },
  {
   "cell_type": "markdown",
   "metadata": {},
   "source": [
    "* With the symbols gone, we can convert the Gross column’s values from text to floating-point numbers:"
   ]
  },
  {
   "cell_type": "code",
   "execution_count": 28,
   "metadata": {},
   "outputs": [
    {
     "data": {
      "text/plain": [
       "Title\n",
       "Avengers: Endgame               2796.3\n",
       "Avatar                          2789.7\n",
       "Titanic                         2187.5\n",
       "Star Wars: The Force Awakens    2068.2\n",
       "Avengers: Infinity War          2048.4\n",
       "                                 ...  \n",
       "Yogi Bear                        201.6\n",
       "Garfield: The Movie              200.8\n",
       "Cats & Dogs                      200.7\n",
       "The Hunt for Red October         200.5\n",
       "Valkyrie                         200.3\n",
       "Name: Gross, Length: 782, dtype: float64"
      ]
     },
     "execution_count": 28,
     "metadata": {},
     "output_type": "execute_result"
    }
   ],
   "source": [
    "(\n",
    "data[\"Gross\"]\n",
    ".str.replace(\"$\", \"\", regex = False)\n",
    ".str.replace(\",\", \"\", regex = False)\n",
    ".astype(float)\n",
    ")"
   ]
  },
  {
   "cell_type": "markdown",
   "metadata": {},
   "source": [
    "* these operations are temporary and do not modify the original Gross\n",
    "Series. \n",
    "* In all the previous examples, pandas created a copy of the original data structure,performed the operation, and returned a new object. \n",
    "* The next example explicitly overwrites the Gross column in movies with a new column of decimal-point numbers. \n",
    "* Now the transformation is permanent:"
   ]
  },
  {
   "cell_type": "code",
   "execution_count": 30,
   "metadata": {},
   "outputs": [],
   "source": [
    "data[\"Gross\"]=(\n",
    "    data[\"Gross\"]\n",
    "    .str.replace(\"$\",\"\",regex=False)\n",
    "    .str.replace(\",\",\"\",regex=False)\n",
    "    .astype(float)\n",
    ")"
   ]
  },
  {
   "cell_type": "markdown",
   "metadata": {},
   "source": [
    "* Our data type conversion opens the door to more calculations and manipulations.\n",
    "The next example calculates the average box-office gross of the movies:"
   ]
  },
  {
   "cell_type": "code",
   "execution_count": 31,
   "metadata": {},
   "outputs": [
    {
     "data": {
      "text/plain": [
       "439.0308184143222"
      ]
     },
     "execution_count": 31,
     "metadata": {},
     "output_type": "execute_result"
    }
   ],
   "source": [
    "data[\"Gross\"].mean()"
   ]
  },
  {
   "cell_type": "markdown",
   "metadata": {},
   "source": [
    "if you have any doubts or queries through the series you can post them in the comments, as soon as get free time I will be personally solving all your doubts, notebooks, code and data sets required for practice will be available on the dedicated GitHub repository. \n",
    "\n",
    "Finally, one request if you really like what you read and acquire knowledge about feel free to share the article with your Friends, Colleagues, students or anyone you might think will benefit from this. sharing is caring."
   ]
  }
 ],
 "metadata": {
  "kernelspec": {
   "display_name": "Python 3.9.12 ('fapi')",
   "language": "python",
   "name": "python3"
  },
  "language_info": {
   "codemirror_mode": {
    "name": "ipython",
    "version": 3
   },
   "file_extension": ".py",
   "mimetype": "text/x-python",
   "name": "python",
   "nbconvert_exporter": "python",
   "pygments_lexer": "ipython3",
   "version": "3.9.12"
  },
  "orig_nbformat": 4,
  "vscode": {
   "interpreter": {
    "hash": "f27cc5774be31dba93d254150524474a54b88b2c76cf4f958e8d78ca339b1d9c"
   }
  }
 },
 "nbformat": 4,
 "nbformat_minor": 2
}
